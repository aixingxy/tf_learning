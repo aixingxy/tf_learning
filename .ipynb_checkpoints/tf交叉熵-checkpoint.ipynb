{
 "cells": [
  {
   "cell_type": "markdown",
   "metadata": {
    "collapsed": true
   },
   "source": [
    "# TensorFlow的四种计算"
   ]
  },
  {
   "cell_type": "markdown",
   "metadata": {},
   "source": [
    "TensorFlow交叉熵计算函数输入中的logits都不是softmax或sigmoid的输出，而是softmax或是sigmoid函数的输入，因为它在函数内部进行sigmoid或softmax操作"
   ]
  },
  {
   "cell_type": "code",
   "execution_count": 10,
   "metadata": {},
   "outputs": [
    {
     "name": "stdout",
     "output_type": "stream",
     "text": [
      "[[12.00000614  0.04858735  0.12692801]\n",
      " [ 0.04858735 10.0000454   0.31326169]\n",
      " [ 0.31326169  0.12692801  5.00671535]\n",
      " [ 4.01814993  6.50150231  0.26328247]\n",
      " [ 0.04858735  6.00247569  0.31326169]]\n",
      "[[6.14419348e-06 3.04858735e+00 2.12692801e+00]\n",
      " [3.04858735e+00 4.53988992e-05 1.31326169e+00]\n",
      " [1.31326169e+00 2.12692801e+00 6.71534849e-03]\n",
      " [1.81499279e-02 1.50231016e-03 1.46328247e+00]\n",
      " [3.04858735e+00 2.47568514e-03 1.31326169e+00]]\n"
     ]
    }
   ],
   "source": [
    "import numpy as np\n",
    "import tensorflow as tf\n",
    "def sigmood(x):\n",
    "    return 1.0 / (1 + np.exp(x))\n",
    "y = np.array([[1, 0, 0], [0, 1, 0], [0, 0, 1], [1, 1, 0], [0, 1, 0]])\n",
    "logists = np.array([[12, 3, 2], [3, 10, 1], [1, 2, 5], [4, 6.5, 1.2], [3, 6, 1]])\n",
    "y_pred = sigmood(logists)\n",
    "\n",
    "loss1 = -y*np.log(y_pred)-(1-y)*np.log(1-y_pred)\n",
    "print(loss1)\n",
    "\n",
    "with tf.Session() as sess:\n",
    "    y = y.astype(np.float64)\n",
    "    loss2 = sess.run(tf.nn.sigmoid_cross_entropy_with_logits(labels=y, logits=logists))\n",
    "    print(loss2)"
   ]
  },
  {
   "cell_type": "code",
   "execution_count": 16,
   "metadata": {},
   "outputs": [
    {
     "ename": "SyntaxError",
     "evalue": "invalid syntax (<ipython-input-16-98ce434297fc>, line 7)",
     "output_type": "error",
     "traceback": [
      "\u001b[0;36m  File \u001b[0;32m\"<ipython-input-16-98ce434297fc>\"\u001b[0;36m, line \u001b[0;32m7\u001b[0m\n\u001b[0;31m    logit = np.array([[12,3,2],[3,10,1],[1,2,5],[4,6.5,1.2],[3,6,1]])\u001b[0m\n\u001b[0m        ^\u001b[0m\n\u001b[0;31mSyntaxError\u001b[0m\u001b[0;31m:\u001b[0m invalid syntax\n"
     ]
    }
   ],
   "source": [
    "import numpy as np\n",
    "import tensorflow as tf\n",
    "tf.reset_default_graph()\n",
    "def sigmood(x):\n",
    "    return 1.0 / (1 + np.exp(x))\n",
    "y = np.array([[1,0,0],[0,1,0],[0,0,1],[1,1,0],[0,1,0]] \n",
    "logit = np.array([[12,3,2],[3,10,1],[1,2,5],[4,6.5,1.2],[3,6,1]])\n",
    "y_pred = sigmoid(logits)\n",
    "E1 = -y*np.log(y_pred)-(1-y)*np.log(1-y_pred)\n",
    "print(E1) # 按计算公式计算的结果\n",
    "sess =tf.Session()\n",
    "y = np.array(y).astype(np.float64) # labels是float64的数据类型\n",
    "E2 = sess.run(tf.nn.sigmoid_cross_entropy_with_logits(labels=y,logits=logits))\n",
    "print(E2)"
   ]
  },
  {
   "cell_type": "code",
   "execution_count": null,
   "metadata": {},
   "outputs": [],
   "source": []
  },
  {
   "cell_type": "code",
   "execution_count": null,
   "metadata": {},
   "outputs": [],
   "source": []
  }
 ],
 "metadata": {
  "kernelspec": {
   "display_name": "Python 3",
   "language": "python",
   "name": "python3"
  },
  "language_info": {
   "codemirror_mode": {
    "name": "ipython",
    "version": 3
   },
   "file_extension": ".py",
   "mimetype": "text/x-python",
   "name": "python",
   "nbconvert_exporter": "python",
   "pygments_lexer": "ipython3",
   "version": "3.6.4"
  }
 },
 "nbformat": 4,
 "nbformat_minor": 1
}
